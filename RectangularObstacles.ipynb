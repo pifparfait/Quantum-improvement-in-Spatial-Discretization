{
  "cells": [
    {
      "cell_type": "markdown",
      "source": [
        "# Discretization of the Plane for Rectangular Obstacles\n",
        "This document will solve a discretization problem where the obstacles are rectangles. To do this, we will construct a quantum circuit that checks if a point belongs to a set of rectangles. Once this circuit is constructed, we can use Grover's algorithm to solve our problem.\n"
      ],
      "metadata": {
        "id": "XRc9WdX5dw9i"
      },
      "id": "XRc9WdX5dw9i"
    },
    {
      "cell_type": "markdown",
      "source": [
        "The `Pennylane` library is not loaded by default in Google Colab. Therefore, its installation might be required to run the code."
      ],
      "metadata": {
        "id": "-BLvsFm7d783"
      },
      "id": "-BLvsFm7d783"
    },
    {
      "cell_type": "code",
      "execution_count": null,
      "id": "65d94678-04c7-42fc-8973-5ed71e375372",
      "metadata": {
        "id": "65d94678-04c7-42fc-8973-5ed71e375372"
      },
      "outputs": [],
      "source": [
        "!pip install pennylane > out"
      ]
    },
    {
      "cell_type": "markdown",
      "source": [
        "\n",
        "\n",
        "We load the libraries that will enable us to solve the problem"
      ],
      "metadata": {
        "id": "VN-dGM95eROa"
      },
      "id": "VN-dGM95eROa"
    },
    {
      "cell_type": "code",
      "execution_count": null,
      "id": "582cf080-2114-44d3-aa69-0304f5806bfb",
      "metadata": {
        "id": "582cf080-2114-44d3-aa69-0304f5806bfb"
      },
      "outputs": [],
      "source": [
        "## Libraries\n",
        "import numpy as np\n",
        "import pennylane as qml\n",
        "import matplotlib.pyplot as plt\n",
        "import time\n",
        "%config InlineBackend.figure_format = 'retina'\n"
      ]
    },
    {
      "cell_type": "markdown",
      "source": [
        "The following two functions allow us to draw our problem."
      ],
      "metadata": {
        "id": "GEzZOlxeewq7"
      },
      "id": "GEzZOlxeewq7"
    },
    {
      "cell_type": "code",
      "execution_count": null,
      "id": "6ca8514d-c809-49a3-9e85-f6acb6640c1c",
      "metadata": {
        "id": "6ca8514d-c809-49a3-9e85-f6acb6640c1c"
      },
      "outputs": [],
      "source": [
        "# Function to draw a grid\n",
        "def draw_board():\n",
        "    # Define the limits for the grid\n",
        "    x_lim = [-1, 2**nCoordX]\n",
        "    y_lim = [-1, 2**nCoordY]\n",
        "\n",
        "    # Set the limits for the plot\n",
        "    plt.xlim(x_lim[0], x_lim[1])\n",
        "    plt.ylim(y_lim[0], y_lim[1])\n",
        "\n",
        "    # Set labels for the axes\n",
        "    plt.xlabel('x coordinate')\n",
        "    plt.ylabel('y coordinate')\n",
        "\n",
        "    # Determine the number of rows based on y-coordinate\n",
        "    nRows = 2**nCoordY\n",
        "\n",
        "    # Draw horizontal and vertical lines to create the grid\n",
        "    for i in range(nRows):\n",
        "        plt.plot([0, 2**nCoordX - 1], [i, i], color=\"black\", linewidth=0.3)\n",
        "        plt.plot([i, i], [0, 2**nCoordY - 1], color=\"black\", linewidth=0.3)\n",
        "    return\n",
        "\n",
        "# Function to draw points on the grid\n",
        "def draw_points(list_points):\n",
        "    # Get the number of points to draw\n",
        "    nPoints = len(list_points)\n",
        "\n",
        "    # Draw each point in red\n",
        "    for i in range(nPoints):\n",
        "        plt.scatter(list_points[i][0], list_points[i][1], color=\"red\")\n",
        "\n",
        "# Uncomment the following line to draw the board\n",
        "# draw_board()\n"
      ]
    },
    {
      "cell_type": "markdown",
      "source": [
        "The following class helps us solving the problem.\n",
        "This code defines a class **pcRectangle** to represent a rectangle. It initializes four corners of the rectangle and provides methods for initializing it using two corner points, calculating its area, adding it to a plot with a specified color, and generating a string representation of its coordinates. The class is then used with specific values for X and Y coordinates.\n",
        "\n",
        "\n"
      ],
      "metadata": {
        "id": "p9MdgFjKe6p1"
      },
      "id": "p9MdgFjKe6p1"
    },
    {
      "cell_type": "code",
      "execution_count": null,
      "id": "d1fb4fa5-ea87-46df-a851-c13fa9ddc345",
      "metadata": {
        "id": "d1fb4fa5-ea87-46df-a851-c13fa9ddc345"
      },
      "outputs": [],
      "source": [
        "# Class to represent a rectangle\n",
        "class pcRectangle:\n",
        "    def __init__(self):\n",
        "        # Initialize the four corners of the rectangle with zero coordinates\n",
        "        self.m_p2dCorner00 = np.array((0.0, 0.0))  # Lower left corner\n",
        "        self.m_p2dCorner01 = np.array((0.0, 0.0))  # Upper left corner\n",
        "        self.m_p2dCorner10 = np.array((0.0, 0.0))  # Lower right corner\n",
        "        self.m_p2dCorner11 = np.array((0.0, 0.0))  # Upper right corner\n",
        "\n",
        "    # Initialize the rectangle with two opposite corners\n",
        "    def InitializeBy2Pnts(self, pntCornerA, pntCornerB):\n",
        "        # Lower left corner\n",
        "        self.m_p2dCorner00[0] = np.min((pntCornerA[0], pntCornerB[0]))\n",
        "        self.m_p2dCorner00[1] = np.min((pntCornerA[1], pntCornerB[1]))\n",
        "        # Upper right corner\n",
        "        self.m_p2dCorner11[0] = np.max((pntCornerA[0], pntCornerB[0]))\n",
        "        self.m_p2dCorner11[1] = np.max((pntCornerA[1], pntCornerB[1]))\n",
        "        # Lower right corner\n",
        "        self.m_p2dCorner10[0] = self.m_p2dCorner11[0]\n",
        "        self.m_p2dCorner10[1] = self.m_p2dCorner00[1]\n",
        "        # Upper left corner\n",
        "        self.m_p2dCorner01[0] = self.m_p2dCorner00[0]\n",
        "        self.m_p2dCorner01[1] = self.m_p2dCorner11[1]\n",
        "\n",
        "    # Calculate the area of the rectangle\n",
        "    def Area(self):\n",
        "        return (self.m_p2dCorner11[0] - self.m_p2dCorner00[0]) * (self.m_p2dCorner11[1] - self.m_p2dCorner00[1])\n",
        "\n",
        "    # Add the rectangle to the plot with a specified color\n",
        "    def AddFillRectangleToPlot(self, strColor='black'):\n",
        "        vX = [self.m_p2dCorner00[0], self.m_p2dCorner10[0]]\n",
        "        vY1 = [self.m_p2dCorner00[1], self.m_p2dCorner10[1]]\n",
        "        vY2 = [self.m_p2dCorner01[1], self.m_p2dCorner11[1]]\n",
        "        plt.fill_between(vX, vY1, vY2, color=strColor, alpha=0.6)\n",
        "        return\n",
        "\n",
        "    # String representation of the rectangle\n",
        "    def __str__(self):\n",
        "        return f\"CoordX = ({self.m_p2dCorner00[0]},{self.m_p2dCorner10[0]}), CoordY = ({self.m_p2dCorner00[1]}, {self.m_p2dCorner11[1]})\"\n",
        "\n",
        "# Set the number of coordinates for X and Y\n",
        "nCoordX = 5\n",
        "nCoordY = 5\n"
      ]
    },
    {
      "cell_type": "markdown",
      "source": [
        "### 2 Quantum circuits\n",
        "The following functions implement quantum circuits that allow us to perform the arithmetic operations necessary to solve our problem."
      ],
      "metadata": {
        "id": "2fnPoI7Cf3bM"
      },
      "id": "2fnPoI7Cf3bM"
    },
    {
      "cell_type": "code",
      "execution_count": null,
      "id": "a1098daf-ad59-4dbb-8cde-93c87f53103d",
      "metadata": {
        "id": "a1098daf-ad59-4dbb-8cde-93c87f53103d"
      },
      "outputs": [],
      "source": [
        "# Function to convert a binary array to its corresponding integer value\n",
        "def binary_to_integer(vOutput):\n",
        "    # Create an array of powers of 2, corresponding to each binary digit's position\n",
        "    vPows = 2**np.array(range(len(vOutput)))\n",
        "    # Reverse the array to match the binary representation (MSB to LSB)\n",
        "    vPows = vPows[::-1]\n",
        "    # Calculate the integer by taking the dot product of the binary array and the powers of 2\n",
        "    return np.dot(vOutput, vPows)\n",
        "\n",
        "# Function to apply Hadamard gates to a set of qubits\n",
        "def apply_hadamard(wires_h):\n",
        "    # Iterate over the list of qubits (wires) and apply the Hadamard gate to each\n",
        "    for i in wires_h:\n",
        "        qml.Hadamard(wires=i)\n"
      ]
    },
    {
      "cell_type": "code",
      "execution_count": null,
      "id": "809f07a0-53f5-457a-8077-1f021ec5503b",
      "metadata": {
        "id": "809f07a0-53f5-457a-8077-1f021ec5503b"
      },
      "outputs": [],
      "source": [
        "# Implement arithmetic operations to build the oracle\n",
        "def sum_k(k, wires):\n",
        "    # Apply phase rotations for each qubit in wires\n",
        "    for j in range(len(wires)):\n",
        "        qml.RZ(k * np.pi / (2**j), wires=wires[j])\n",
        "\n",
        "def check_interval_1(wires_a, wires_aux, interval):\n",
        "    # Check if enough ancillary qubits are available for interval checking\n",
        "    if len(wires_aux) < 3:\n",
        "        print(\"Not enough ancillary qubits to check the interval\")\n",
        "        return\n",
        "\n",
        "    # Prepare the qubits for the first check\n",
        "    wires_current_a = [wires_aux[0]] + wires_a\n",
        "    # First check: whether the value is above the lower bound of the interval\n",
        "    qml.QFT(wires_current_a)\n",
        "    sum_k(-interval[0], wires_current_a)\n",
        "    qml.adjoint(qml.QFT)(wires_current_a)\n",
        "    qml.PauliX(wires=wires_current_a[0])\n",
        "    qml.CNOT(wires=[wires_current_a[0], wires_aux[1]])\n",
        "    qml.PauliX(wires=wires_current_a[0])\n",
        "\n",
        "    # Second check: whether the value is below the upper bound of the interval\n",
        "    qml.QFT(wires_current_a)\n",
        "    sum_k(+interval[0] - (interval[1]+1), wires_current_a)\n",
        "    qml.adjoint(qml.QFT)(wires_current_a)\n",
        "    qml.CNOT(wires=[wires_current_a[0], wires_aux[2]])\n",
        "\n",
        "def check_interval(wires_a, wires_aux, wires_res, interval):\n",
        "    # Combine the first and second checks to determine if within the interval\n",
        "    check_interval_1(wires_a, wires_aux, interval)\n",
        "    qml.Toffoli(wires=[wires_aux[1], wires_aux[2], wires_res[0]])\n",
        "    qml.adjoint(check_interval_1)(wires_a, wires_aux, interval)\n"
      ]
    },
    {
      "cell_type": "markdown",
      "source": [],
      "metadata": {
        "id": "sjO_AN8FAPSk"
      },
      "id": "sjO_AN8FAPSk"
    },
    {
      "cell_type": "code",
      "execution_count": null,
      "id": "0bd21467-02bb-42f9-9400-bfd6b681308c",
      "metadata": {
        "id": "0bd21467-02bb-42f9-9400-bfd6b681308c"
      },
      "outputs": [],
      "source": [
        "# Function to check if a point belongs to a rectangle\n",
        "def check_rectangle(wires_x, wires_y, wires_aux, wires_res, rectangle):\n",
        "    \"\"\"\n",
        "    Checks if a point lies within a specified rectangle.\n",
        "\n",
        "    Pre-conditions:\n",
        "    - wires_x: Qubit wires representing the x-coordinate of the point.\n",
        "    - wires_y: Qubit wires representing the y-coordinate of the point.\n",
        "    - wires_aux: Ancillary qubits for intermediate calculations.\n",
        "    - wires_res: Qubit wire for storing the final result.\n",
        "    - rectangle: A pcRectangle object defining the rectangle.\n",
        "    - Requires at least 5 ancillary qubits.\n",
        "\n",
        "    Post-conditions:\n",
        "    - The result qubit (wires_res[0]) is set to 1 if the point is within the rectangle, 0 otherwise.\n",
        "    - The ancillary qubits are returned to their initial state.\n",
        "    \"\"\"\n",
        "\n",
        "    # Ensure enough ancillary qubits are available for rectangle checking\n",
        "    if len(wires_aux) < 5:\n",
        "        print(\"The number of ancillary qubits to check if is in rectangle must be more than 5\")\n",
        "        return\n",
        "\n",
        "    # Define intervals for x and y coordinates based on rectangle corners\n",
        "    interval1 = np.array((rectangle.m_p2dCorner00[0], rectangle.m_p2dCorner11[0]))\n",
        "    interval2 = np.array((rectangle.m_p2dCorner00[1], rectangle.m_p2dCorner11[1]))\n",
        "\n",
        "    # Check if x-coordinate falls within the x-interval of the rectangle\n",
        "    check_interval(wires_x, wires_aux[:3], [wires_aux[3]], interval1)\n",
        "\n",
        "    # Check if y-coordinate falls within the y-interval of the rectangle\n",
        "    check_interval(wires_y, wires_aux[:3], [wires_aux[4]], interval2)\n",
        "\n",
        "    # Use Toffoli gate to determine if the point lies within both intervals\n",
        "    qml.Toffoli(wires=[wires_aux[3], wires_aux[4], wires_res[0]])\n",
        "\n",
        "    # Reverse the interval checks to reset ancillary qubits\n",
        "    qml.adjoint(check_interval)(wires_x, wires_aux[:3], [wires_aux[3]], interval1)\n",
        "    qml.adjoint(check_interval)(wires_y, wires_aux[:3], [wires_aux[4]], interval2)\n"
      ]
    },
    {
      "cell_type": "markdown",
      "source": [
        "We are going to build a quantum circuit to verify that the functions we have just implemented work correctly."
      ],
      "metadata": {
        "id": "-tzhZk8mirgY"
      },
      "id": "-tzhZk8mirgY"
    },
    {
      "cell_type": "code",
      "execution_count": null,
      "id": "f40ebbd4-921f-4e99-bb1f-803610599392",
      "metadata": {
        "colab": {
          "base_uri": "https://localhost:8080/"
        },
        "id": "f40ebbd4-921f-4e99-bb1f-803610599392",
        "outputId": "4b2a39e1-17e5-4f35-8d03-8c4ac1769c56"
      },
      "outputs": [
        {
          "output_type": "stream",
          "name": "stdout",
          "text": [
            "The number is ( [0 0 1 1 0] , [0 1 1 0 0] )\n",
            "The value of the wires aux is [0 0 0 0 0]\n",
            "The solucion is  [1]\n"
          ]
        }
      ],
      "source": [
        "# Function to create the quantum circuit\n",
        "wires_x = list(range(5))\n",
        "wires_y = list(range(5, 10))\n",
        "wires_aux = list(range(10, 15))\n",
        "wires_res = [15]\n",
        "\n",
        "# Quantum device setup\n",
        "dev = qml.device(\"default.qubit\", wires=16, shots=1)\n",
        "\n",
        "# Quantum circuit definition\n",
        "@qml.qnode(dev)\n",
        "def circuit(x_value, y_value, rectangle):\n",
        "    \"\"\"\n",
        "    Quantum circuit to check if a point is inside a given rectangle.\n",
        "\n",
        "    Pre-conditions:\n",
        "    - x_value: Binary representation of the x-coordinate of the point.\n",
        "    - y_value: Binary representation of the y-coordinate of the point.\n",
        "    - rectangle: A pcRectangle object defining the rectangle.\n",
        "\n",
        "    Post-conditions:\n",
        "    - Returns the sample of the quantum state after executing the circuit.\n",
        "    - The circuit encodes the x and y coordinates, checks if the point is inside the rectangle,\n",
        "      and records the result in wires_res.\n",
        "    \"\"\"\n",
        "\n",
        "    # Embed x and y values into the circuit\n",
        "    qml.BasisEmbedding(x_value, wires=wires_x)\n",
        "    qml.BasisEmbedding(y_value, wires=wires_y)\n",
        "\n",
        "    # Check if the point is within the given rectangle\n",
        "    check_rectangle(wires_x, wires_y, wires_aux, wires_res, rectangle)\n",
        "\n",
        "    # Sample and return the final state of the circuit\n",
        "    return qml.sample()\n",
        "\n",
        "# Define an example obstacle\n",
        "corner00 = np.array((5, 10))\n",
        "corner11 = np.array((8, 12))\n",
        "recRandomRectangle = pcRectangle()\n",
        "recRandomRectangle.InitializeBy2Pnts(corner00, corner11)\n",
        "\n",
        "# Check the solution for an example point\n",
        "sol = circuit(6, 12, recRandomRectangle)\n",
        "print(\"The number is (\", sol[wires_x], \",\", sol[wires_y], \")\")\n",
        "print(\"The value of the wires aux is\", sol[wires_aux])\n",
        "print(\"The solucion is \", sol[wires_res])\n"
      ]
    },
    {
      "cell_type": "markdown",
      "source": [
        "Once we have built a function that checks whether a point belongs to a rectangle, we can generalize it to the case in which there are several rectangles.\n",
        "\n",
        "This function extends the `check_rectangle` function to handle multiple rectangles. It loops through a list of rectangle objects, checking each one and updating the quantum state accordingly. The function ensures that there are enough auxiliary qubits for the computation and applies a `Quantum Fourier Transform` to accumulate the results of the checks."
      ],
      "metadata": {
        "id": "zpoGRFYFgiq8"
      },
      "id": "zpoGRFYFgiq8"
    },
    {
      "cell_type": "code",
      "execution_count": null,
      "id": "ccbb97e4-2a7a-4f73-97e1-6a55da85ca45",
      "metadata": {
        "id": "ccbb97e4-2a7a-4f73-97e1-6a55da85ca45"
      },
      "outputs": [],
      "source": [
        "# Function to check inclusion in multiple rectangles\n",
        "def check_multirectangles(wires_x, wires_y, wires_aux, wires_sum, list_rectangle):\n",
        "    \"\"\"\n",
        "    Quantum circuit to check if a point is inside any of the given rectangles.\n",
        "\n",
        "    Pre-conditions:\n",
        "    - wires_x: Qubits representing the x-coordinate of the point.\n",
        "    - wires_y: Qubits representing the y-coordinate of the point.\n",
        "    - wires_aux: Auxiliary qubits for intermediate calculations.\n",
        "    - wires_sum: Qubits to record the sum of the inclusion checks.\n",
        "    - list_rectangle: List of pcRectangle objects defining multiple rectangles.\n",
        "\n",
        "    Post-conditions:\n",
        "    - Modifies the state of wires_sum based on the number of rectangles the point belongs to.\n",
        "    - Requires a minimum of 6 auxiliary qubits.\n",
        "    \"\"\"\n",
        "\n",
        "    # Ensure enough ancillary qubits are available\n",
        "    if len(wires_aux) < 6:\n",
        "        print(\"The number of ancillary qubits must be more than 6\")\n",
        "        return\n",
        "\n",
        "    # Setup for checking a single rectangle\n",
        "    wires_res_one_rectangle = [wires_aux[0]]\n",
        "    wires_aux_one_rectangle = wires_aux[1:]\n",
        "\n",
        "    # Apply Quantum Fourier Transform on the sum qubits\n",
        "    qml.QFT(wires=wires_sum)\n",
        "\n",
        "    # Loop through each rectangle and perform the check\n",
        "    for rectangle in list_rectangle:\n",
        "        # Check if the point is in the current rectangle\n",
        "        check_rectangle(wires_x, wires_y, wires_aux_one_rectangle, wires_res_one_rectangle, rectangle)\n",
        "\n",
        "        # Conditional sum based on the check result\n",
        "        qml.ctrl(sum_k, control=wires_res_one_rectangle[0])(1, wires_sum)\n",
        "\n",
        "        # Reset the circuit to its state before the rectangle check\n",
        "        qml.adjoint(check_rectangle)(wires_x, wires_y, wires_aux_one_rectangle, wires_res_one_rectangle, rectangle)\n",
        "\n",
        "    # Apply the inverse Quantum Fourier Transform on the sum qubits\n",
        "    qml.adjoint(qml.QFT)(wires=wires_sum)\n"
      ]
    },
    {
      "cell_type": "code",
      "source": [],
      "metadata": {
        "id": "WtKTNnJnlN-3"
      },
      "id": "WtKTNnJnlN-3",
      "execution_count": null,
      "outputs": []
    },
    {
      "cell_type": "markdown",
      "source": [
        "We create several rectangles that will act as obstacles."
      ],
      "metadata": {
        "id": "6KExY6bA3P5d"
      },
      "id": "6KExY6bA3P5d"
    },
    {
      "cell_type": "code",
      "execution_count": null,
      "id": "61a96fc8-d3fa-4e78-9c60-690658976d5b",
      "metadata": {
        "colab": {
          "base_uri": "https://localhost:8080/",
          "height": 485
        },
        "id": "61a96fc8-d3fa-4e78-9c60-690658976d5b",
        "outputId": "13d7479a-0d46-458f-924f-a8df40cb41c4"
      },
      "outputs": [
        {
          "output_type": "stream",
          "name": "stdout",
          "text": [
            "The total area covered by obstacles is 727.0\n",
            "Proportion of area covered by obstacles: 0.7099609375\n"
          ]
        },
        {
          "output_type": "display_data",
          "data": {
            "text/plain": [
              "<Figure size 640x480 with 1 Axes>"
            ],
            "image/png": "[encoded data removed]"
          },
          "metadata": {
            "image/png": {
              "width": 563,
              "height": 432
            }
          }
        }
      ],
      "source": [
        "## Setting up the obstacles\n",
        "list_rectangle = []\n",
        "\n",
        "# Pre-condition: pcRectangle class and drawing functions must be defined\n",
        "\n",
        "## Obstacle 1\n",
        "corner00 = np.array((1, 2))\n",
        "corner11 = np.array((13, 15))\n",
        "recRandomRectangle = pcRectangle()\n",
        "recRandomRectangle.InitializeBy2Pnts(corner00, corner11)\n",
        "list_rectangle.append(recRandomRectangle)\n",
        "\n",
        "## Obstacle 2\n",
        "corner00 = np.array((1, 17))\n",
        "corner11 = np.array((14, 30))\n",
        "recRandomRectangle = pcRectangle()\n",
        "recRandomRectangle.InitializeBy2Pnts(corner00, corner11)\n",
        "list_rectangle.append(recRandomRectangle)\n",
        "\n",
        "## Obstacle 3\n",
        "corner00 = np.array((16, 8))\n",
        "corner11 = np.array((30, 31))\n",
        "recRandomRectangle = pcRectangle()\n",
        "recRandomRectangle.InitializeBy2Pnts(corner00, corner11)\n",
        "list_rectangle.append(recRandomRectangle)\n",
        "\n",
        "## Obstacle 4\n",
        "corner00 = np.array((15, 0))\n",
        "corner11 = np.array((31, 5))\n",
        "recRandomRectangle = pcRectangle()\n",
        "recRandomRectangle.InitializeBy2Pnts(corner00, corner11)\n",
        "list_rectangle.append(recRandomRectangle)\n",
        "\n",
        "# Post-condition: Rectangles are defined and stored in list_rectangle\n",
        "\n",
        "## Drawing the rectangles and calculating the total area\n",
        "area_total = 0\n",
        "for rectangle in list_rectangle:\n",
        "    rectangle.AddFillRectangleToPlot()\n",
        "    area_total += rectangle.Area()\n",
        "draw_board()\n",
        "print(\"The total area covered by obstacles is\", area_total)\n",
        "print(\"Proportion of area covered by obstacles:\", area_total / (32 * 32))\n"
      ]
    },
    {
      "cell_type": "markdown",
      "source": [
        "The following circuit checks if a point belongs to several rectangles."
      ],
      "metadata": {
        "id": "qqjbh5XZ4Agq"
      },
      "id": "qqjbh5XZ4Agq"
    },
    {
      "cell_type": "code",
      "execution_count": null,
      "id": "cdd11fd6-56ae-46fb-8624-2d5bfe2c737a",
      "metadata": {
        "colab": {
          "base_uri": "https://localhost:8080/"
        },
        "id": "cdd11fd6-56ae-46fb-8624-2d5bfe2c737a",
        "outputId": "11f70c3a-ea43-4e70-8165-aa7008c6baac"
      },
      "outputs": [
        {
          "output_type": "stream",
          "name": "stdout",
          "text": [
            "The coordinates are ( 10 , 16 )\n",
            "Belongs to  0 rectangles\n"
          ]
        }
      ],
      "source": [
        "## Circuit to Check Multiple Rectangles\n",
        "# Pre-condition: Required functions and classes must be defined\n",
        "\n",
        "# Setting up the circuit\n",
        "wires_x = list(range(5))\n",
        "wires_y = list(range(5, 10))\n",
        "wires_aux = list(range(10, 16))\n",
        "wires_sum = list(range(16, 19))\n",
        "nTotalWires = len(wires_x) + len(wires_y) + len(wires_aux) + len(wires_sum)\n",
        "\n",
        "dev = qml.device(\"default.qubit\", wires = nTotalWires, shots = 1)\n",
        "\n",
        "@qml.qnode(dev)\n",
        "def circuit(wires_x, wires_y, wires_aux, wires_sum, list_rectangle):\n",
        "    qml.BasisEmbedding(10, wires=wires_x)\n",
        "    qml.BasisEmbedding(16, wires=wires_y)\n",
        "    check_multirectangles(wires_x, wires_y, wires_aux, wires_sum, list_rectangle)\n",
        "    return qml.sample()\n",
        "\n",
        "# Testing the Circuit\n",
        "sol = circuit(wires_x, wires_y, wires_aux, wires_sum, list_rectangle)\n",
        "punto_sol = np.array((binary_to_integer(sol[wires_x]), binary_to_integer(sol[wires_y])))\n",
        "print(\"The coordinates are (\", punto_sol[0], \",\", punto_sol[1], \")\")\n",
        "print(\"Belongs to \", binary_to_integer(sol[wires_sum]), \"rectangles\")\n",
        "\n",
        "# Post-condition: Circuit outputs if the point belongs to any of the defined rectangles\n"
      ]
    },
    {
      "cell_type": "markdown",
      "source": [
        "### 3 Grover's algorithm\n",
        "Once we have built all the previous functions we can build Grover's algorithm that will allow us to find points on the grid optimally.\n",
        "\n",
        "This code defines two critical components of Grover's algorithm: the oracle and the diffuser. The oracle checks if a point belongs to any defined rectangles and flips the phase if it does. The diffuser operator then spreads the amplitude uniformly across all states, preparing the system for the next iteration of Grover's algorithm. The pre-and post-conditions clarify the requirements and outcomes of these functions."
      ],
      "metadata": {
        "id": "jcUYtpqujrTn"
      },
      "id": "jcUYtpqujrTn"
    },
    {
      "cell_type": "code",
      "execution_count": null,
      "id": "4238b604-9fc4-42d5-b2b9-7cbf1d2e68ce",
      "metadata": {
        "id": "4238b604-9fc4-42d5-b2b9-7cbf1d2e68ce"
      },
      "outputs": [],
      "source": [
        "## Oracle for Multiple Rectangles\n",
        "# Pre-condition: Functions for checking multiple rectangles and auxiliary operations must be defined\n",
        "\n",
        "def Oracle(wires_x, wires_y, wires_aux, wires_sum, wires_res, list_rectangle):\n",
        "    # Initialize the result wire\n",
        "    qml.PauliX(wires = wires_res[0])\n",
        "    qml.Hadamard(wires = wires_res[0])\n",
        "\n",
        "    # Apply the check for multiple rectangles\n",
        "    check_multirectangles(wires_x, wires_y, wires_aux, wires_sum, list_rectangle)\n",
        "    vStringCombo = ''.join(str(0) for j in range(len(wires_sum)))\n",
        "    qml.MultiControlledX(control_wires = wires_sum, wires = wires_res[0], control_values = vStringCombo)\n",
        "    qml.adjoint(check_multirectangles)(wires_x, wires_y, wires_aux, wires_sum, list_rectangle)\n",
        "\n",
        "    # Reset the result wire\n",
        "    qml.Hadamard(wires = wires_res[0])\n",
        "    qml.PauliX(wires = wires_res[0])\n",
        "\n",
        "# Diffuser Operator\n",
        "# Pre-condition: 'apply_hadamard' function must be defined\n",
        "\n",
        "def DiffuserOperator(wires_x, wires_y, wires_aux):\n",
        "    # Initialize the auxiliary qubit\n",
        "    qml.PauliX(wires = wires_aux[0])\n",
        "    qml.Hadamard(wires = wires_aux[0])\n",
        "\n",
        "    # Apply the diffuser phase\n",
        "    apply_hadamard(wires_x)\n",
        "    apply_hadamard(wires_y)\n",
        "    wires_join = wires_x + wires_y\n",
        "    vStringCombo = ''.join(str(0) for j in range(len(wires_join)))\n",
        "    qml.MultiControlledX(control_wires = wires_join, wires = wires_aux[0], control_values = vStringCombo)\n",
        "    qml.QubitUnitary(-np.eye(2), wires = 0)\n",
        "    apply_hadamard(wires_x)\n",
        "    apply_hadamard(wires_y)\n",
        "\n",
        "    # Reset the auxiliary qubit\n",
        "    qml.Hadamard(wires = wires_aux[0])\n",
        "    qml.PauliX(wires = wires_aux[0])\n",
        "\n",
        "# Post-condition: The oracle and diffuser are set up to be used in Grover's algorithm for the quantum circuit\n"
      ]
    },
    {
      "cell_type": "code",
      "execution_count": null,
      "id": "9c1fad7d-b6b4-4a81-bbc6-b5853b1d47cb",
      "metadata": {
        "colab": {
          "base_uri": "https://localhost:8080/"
        },
        "id": "9c1fad7d-b6b4-4a81-bbc6-b5853b1d47cb",
        "outputId": "3662ef80-a323-4317-c1e1-9985300a0697"
      },
      "outputs": [
        {
          "output_type": "stream",
          "name": "stderr",
          "text": [
            "/usr/local/lib/python3.10/dist-packages/pennylane/ops/qubit/non_parametric_ops.py:2095: UserWarning: The control_wires keyword will be removed soon. Use wires = (control_wires, target_wire) instead. See the documentation for more information.\n",
            "  warnings.warn(\n"
          ]
        },
        {
          "output_type": "stream",
          "name": "stdout",
          "text": [
            "The point is ( 14 , 8 )\n",
            "The value of auxiliary wires is [0 0 0 0 0 0]\n",
            "Total execution time: 22.778987169265747 seconds\n"
          ]
        }
      ],
      "source": [
        "## Quantum Circuit Creation\n",
        "# Pre-condition: Required libraries and functions (like apply_hadamard, Oracle, DiffuserOperator) must be defined\n",
        "\n",
        "nBitsPoint = 5\n",
        "wires_x = list(range(5))\n",
        "wires_y = list(range(5, 10))\n",
        "wires_aux = list(range(10, 16))\n",
        "wires_sum = list(range(16, 18))\n",
        "wires_res = [18]\n",
        "nTotalWires = len(wires_x) + len(wires_y) + len(wires_aux) + len(wires_sum) + len(wires_res)\n",
        "\n",
        "# Choose the quantum device for simulation\n",
        "dev = qml.device('default.qubit.tf', wires = nTotalWires, shots = 1)\n",
        "\n",
        "@qml.qnode(dev)\n",
        "def circuit(wires_x, wires_y, wires_aux, wires_sum, wires_res, list_rectangle):\n",
        "    apply_hadamard(wires_x)\n",
        "    apply_hadamard(wires_y)\n",
        "\n",
        "    # Apply the Oracle and the Diffuser\n",
        "    Oracle(wires_x, wires_y, wires_aux, wires_sum, wires_res, list_rectangle)\n",
        "    DiffuserOperator(wires_x, wires_y, wires_aux)\n",
        "    return qml.sample()\n",
        "\n",
        "# Running the circuit and measuring execution time\n",
        "start_time = time.time()\n",
        "sol = circuit(wires_x, wires_y, wires_aux, wires_sum, wires_res, list_rectangle)\n",
        "sol = sol.numpy()\n",
        "point_solution = np.array((binary_to_integer(sol[wires_x]), binary_to_integer(sol[wires_y])))\n",
        "print(\"The point is (\", point_solution[0], \",\", point_solution[1],\")\")\n",
        "print(\"The value of auxiliary wires is\", sol[wires_aux])\n",
        "\n",
        "# Calculating total execution time\n",
        "end_time = time.time()\n",
        "total_time = end_time - start_time\n",
        "print(\"Total execution time:\", total_time, \"seconds\")\n",
        "\n",
        "# Post-condition: The circuit applies Grover's algorithm and returns the sample of the quantum state, along with execution time\n"
      ]
    },
    {
      "cell_type": "markdown",
      "source": [
        "We prove on a circuit that the discretization algorithm works correctly."
      ],
      "metadata": {
        "id": "p0wCQ2alldBO"
      },
      "id": "p0wCQ2alldBO"
    },
    {
      "cell_type": "code",
      "execution_count": null,
      "id": "f84e440d-4291-48dc-a96f-4cb27cf8fb2e",
      "metadata": {
        "colab": {
          "base_uri": "https://localhost:8080/",
          "height": 645
        },
        "id": "f84e440d-4291-48dc-a96f-4cb27cf8fb2e",
        "outputId": "101e2a88-f451-40f7-f6b4-5b570a98039e"
      },
      "outputs": [
        {
          "output_type": "stream",
          "name": "stdout",
          "text": [
            "The point is ( 0 , 21 )\n",
            "The point is ( 15 , 31 )\n",
            "The point is ( 15 , 13 )\n",
            "The point is ( 7 , 1 )\n",
            "The point is ( 31 , 19 )\n",
            "The point is ( 15 , 8 )\n",
            "The point is ( 31 , 6 )\n",
            "The point is ( 14 , 8 )\n",
            "The point is ( 25 , 7 )\n",
            "The point is ( 8 , 1 )\n",
            "Total execution time: 140.59933876991272 seconds\n"
          ]
        },
        {
          "output_type": "display_data",
          "data": {
            "text/plain": [
              "<Figure size 640x480 with 1 Axes>"
            ],
            "image/png": "[encoded data removed]"
          },
          "metadata": {
            "image/png": {
              "width": 563,
              "height": 432
            }
          }
        }
      ],
      "source": [
        "# Pre-condition: Required libraries, functions, and quantum circuit (defined in previous steps) must be initialized\n",
        "\n",
        "nPoints = 10\n",
        "list_points = list()\n",
        "start_time = time.time()\n",
        "\n",
        "# Running the quantum circuit for each point\n",
        "for i in range(nPoints):\n",
        "    sol = circuit(wires_x, wires_y, wires_aux, wires_sum, wires_res, list_rectangle)\n",
        "    sol = sol.numpy()\n",
        "    point_solution = np.array((binary_to_integer(sol[wires_x]), binary_to_integer(sol[wires_y])))\n",
        "    print(\"The point is (\", point_solution[0], \",\", point_solution[1],\")\")\n",
        "    list_points.append(point_solution)\n",
        "\n",
        "# Calculating total execution time\n",
        "end_time = time.time()\n",
        "total_time = end_time - start_time\n",
        "print(\"Total execution time:\", total_time, \"seconds\")\n",
        "\n",
        "# Drawing the results\n",
        "for rectangle in list_rectangle:\n",
        "    rectangle.AddFillRectangleToPlot()\n",
        "draw_board()\n",
        "draw_points(list_points)\n",
        "\n",
        "# Post-condition: The script runs the quantum circuit multiple times to generate points, measures the total execution time, and visualizes the results on a plot.\n"
      ]
    },
    {
      "cell_type": "markdown",
      "source": [
        "Cite this work as:\n"
      ],
      "metadata": {
        "id": "b9F8r24yCOtI"
      },
      "id": "b9F8r24yCOtI"
    }
  ],
  "metadata": {
    "kernelspec": {
      "display_name": "Python 3",
      "name": "python3"
    },
    "language_info": {
      "codemirror_mode": {
        "name": "ipython",
        "version": 3
      },
      "file_extension": ".py",
      "mimetype": "text/x-python",
      "name": "python",
      "nbconvert_exporter": "python",
      "pygments_lexer": "ipython3",
      "version": "3.11.4"
    },
    "colab": {
      "provenance": [],
      "gpuType": "T4"
    },
    "accelerator": "GPU"
  },
  "nbformat": 4,
  "nbformat_minor": 5
}