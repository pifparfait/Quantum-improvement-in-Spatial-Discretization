{
  "cells": [
    {
      "cell_type": "markdown",
      "source": [
        "# Discretization of the map for Convex polygonal obstacles\n",
        "This document will solve a discretization problem in which the obstacles are convex polygons. To do this, we will first build a quantum circuit that checks if a point belongs to a set of points. Once this circuit is built, we can use Grover's algorithm to solve our problem.\n",
        "\n",
        "Our objective is to calculate points that belong to the polygon that we have drawn. To do this we need a set of functions that allow us to build the quantum circuit that solves the problem."
      ],
      "metadata": {
        "id": "GdSgCnie399g"
      },
      "id": "GdSgCnie399g"
    },
    {
      "cell_type": "code",
      "execution_count": null,
      "metadata": {
        "id": "66b59090-de4c-4b76-a173-5e016ae09df2"
      },
      "outputs": [],
      "source": [
        "!pip3 install pennylane > out"
      ],
      "id": "66b59090-de4c-4b76-a173-5e016ae09df2"
    },
    {
      "cell_type": "markdown",
      "metadata": {
        "id": "2ce0bedd-8993-4fe5-956a-f7851a9a2f1f"
      },
      "source": [
        "Let us load the libraries"
      ],
      "id": "2ce0bedd-8993-4fe5-956a-f7851a9a2f1f"
    },
    {
      "cell_type": "code",
      "execution_count": null,
      "metadata": {
        "id": "fa2b8c1a-fcec-4aee-abaa-c8c6576b5d78"
      },
      "outputs": [],
      "source": [
        "## Libraries\n",
        "import numpy as np\n",
        "import pennylane as qml\n",
        "import matplotlib.pyplot as plt\n",
        "import time\n",
        "%config InlineBackend.figure_format = 'retina'"
      ],
      "id": "fa2b8c1a-fcec-4aee-abaa-c8c6576b5d78"
    },
    {
      "cell_type": "code",
      "execution_count": null,
      "metadata": {
        "id": "9ccbab91-343d-4156-b447-b28f073ac7d3"
      },
      "outputs": [],
      "source": [],
      "id": "9ccbab91-343d-4156-b447-b28f073ac7d3"
    },
    {
      "cell_type": "code",
      "execution_count": null,
      "metadata": {
        "id": "146470a4-cdc5-4913-9246-16ed34a9478b"
      },
      "outputs": [],
      "source": [
        "# Functions to display the graphics\n",
        "# Pre-condition:\n",
        "# - 'plt' from matplotlib must be imported\n",
        "# - 'nCoordX' and 'nCoordY' should be defined and represent the dimensions of the grid\n",
        "\n",
        "# Post-condition:\n",
        "# - 'draw_board' function creates a grid based on 'nCoordX' and 'nCoordY' values\n",
        "# - 'draw_points' function plots the points from 'list_points' on the grid\n",
        "\n",
        "\n",
        "# Function to draw the grid\n",
        "def draw_board():\n",
        "    # Define the limits for the x and y coordinates\n",
        "    x_lim = [-1, 2**nCoordX]\n",
        "    y_lim = [-1, 2**nCoordY]\n",
        "\n",
        "    # Set the limits for the plot\n",
        "    plt.xlim(x_lim[0], x_lim[1])\n",
        "    plt.ylim(y_lim[0], y_lim[1])\n",
        "\n",
        "    # Set labels for the x and y axes\n",
        "    plt.xlabel('x coordinate')\n",
        "    plt.ylabel('y coordinate')\n",
        "\n",
        "    # Number of rows in the grid\n",
        "    nRows = 2**nCoordY\n",
        "\n",
        "    # Draw horizontal and vertical lines to create the grid\n",
        "    for i in range(nRows):\n",
        "        y_current = [i, i]\n",
        "        x_current = [0, 2**nCoordX]\n",
        "        plt.plot([0, 2**nCoordX - 1], [i, i], color=\"black\", linewidth=0.3)\n",
        "        plt.plot([i, i], [0, 2**nCoordY - 1], color=\"black\", linewidth=0.3)\n",
        "\n",
        "# Function to draw points on the grid\n",
        "def draw_points(list_points):\n",
        "    # Number of points to draw\n",
        "    nPoints = len(list_points)\n",
        "\n",
        "    # Draw each point in the list as a red dot\n",
        "    for i in range(nPoints):\n",
        "        plt.scatter(list_points[i][0], list_points[i][1], color=\"red\")\n",
        "\n"
      ],
      "id": "146470a4-cdc5-4913-9246-16ed34a9478b"
    },
    {
      "cell_type": "code",
      "execution_count": null,
      "metadata": {
        "id": "3e5c315c-6ca2-4569-8e56-2835f7ea7c69"
      },
      "outputs": [],
      "source": [
        "# Pre-condition:\n",
        "# - 'plt' from matplotlib must be imported\n",
        "# - 'np' from numpy should be imported for array operations\n",
        "\n",
        "# Post-condition:\n",
        "# - 'initialize' function sets up the polygon with the given vertices and calculates its vectors\n",
        "# - 'draw' function plots the polygon on a matplotlib plot with the specified color\n",
        "\n",
        "\n",
        "# Polygon Class\n",
        "class pcPolygon():\n",
        "    # Constructor to initialize the polygon class\n",
        "    def __init__(self):\n",
        "        self.vertex_list = list()  # List to store vertices of the polygon\n",
        "        self.vector_list = list()  # List to store vectors representing the sides of the polygon\n",
        "        self.nVertex = 0  # Number of vertices\n",
        "\n",
        "    # Initialize the polygon with a list of vertices\n",
        "    def initialize(self, vertex_list):\n",
        "        self.vertex_list = vertex_list  # Assign the list of vertices\n",
        "        self.nVertex = len(vertex_list)  # Count the number of vertices\n",
        "\n",
        "        # Generate the list of vectors (sides) of the polygon\n",
        "        for i in range(1, self.nVertex):\n",
        "            self.vector_list.append(vertex_list[i] - vertex_list[i - 1])\n",
        "        # Add the vector from the last vertex to the first\n",
        "        self.vector_list.append(vertex_list[0] - vertex_list[-1])\n",
        "\n",
        "    # Function to draw the polygon\n",
        "    def draw(self, color=\"blue\"):\n",
        "        # Draw each side of the polygon\n",
        "        for i in range(self.nVertex):\n",
        "            plt.plot([self.vertex_list[i-1][0], self.vertex_list[i][0]],\n",
        "                     [self.vertex_list[i-1][1], self.vertex_list[i][1]],\n",
        "                     color=color)\n",
        "\n"
      ],
      "id": "3e5c315c-6ca2-4569-8e56-2835f7ea7c69"
    },
    {
      "cell_type": "code",
      "execution_count": null,
      "metadata": {
        "id": "73745056-e679-42b1-a4e5-8ae0feb35e6a"
      },
      "outputs": [],
      "source": [],
      "id": "73745056-e679-42b1-a4e5-8ae0feb35e6a"
    },
    {
      "cell_type": "code",
      "execution_count": null,
      "metadata": {
        "id": "08a6ea94-04c4-4b0c-9f08-8af24567b3a1"
      },
      "outputs": [],
      "source": [
        "## Limites del problema\n",
        "nCoordX = 2\n",
        "nCoordY = 2\n",
        "\n"
      ],
      "id": "08a6ea94-04c4-4b0c-9f08-8af24567b3a1"
    },
    {
      "cell_type": "markdown",
      "metadata": {
        "id": "2ec54da1-bc03-4eb6-9e2b-635c7c45efa1"
      },
      "source": [
        "### 2 Quantum functions\n",
        "The following set of quantum functions solves part of the final problem."
      ],
      "id": "2ec54da1-bc03-4eb6-9e2b-635c7c45efa1"
    },
    {
      "cell_type": "code",
      "execution_count": null,
      "metadata": {
        "id": "03abd849-d495-4c8e-92b0-7fbb447fa9d6"
      },
      "outputs": [],
      "source": [
        "# Pre-condition:\n",
        "# - 'qml' from PennyLane must be imported for quantum operations\n",
        "# - 'np' from numpy should be imported for array operations\n",
        "\n",
        "# Post-condition:\n",
        "# - 'binary_to_integer' function converts a binary array (list of 0s and 1s) to an integer\n",
        "# - 'apply_hadamard' function applies the Hadamard gate to each wire (qubit) in the provided list\n",
        "\n",
        "\n",
        "# Auxiliary Functions\n",
        "\n",
        "# Converts a binary array to its corresponding integer value\n",
        "def binary_to_integer(vOutput):\n",
        "    # Generate an array of powers of 2, in reverse order\n",
        "    vPows = 2**np.array(range(len(vOutput)))\n",
        "    vPows = vPows[::-1]\n",
        "\n",
        "    # Perform dot product to convert binary to integer\n",
        "    return np.dot(vOutput, vPows)\n",
        "\n",
        "# Applies the Hadamard gate to a list of qubits\n",
        "def apply_hadamard(wires_h):\n",
        "    # Loop through the list of wires and apply the Hadamard gate to each\n",
        "    for i in wires_h:\n",
        "        qml.Hadamard(wires=i)\n"
      ],
      "id": "03abd849-d495-4c8e-92b0-7fbb447fa9d6"
    },
    {
      "cell_type": "code",
      "execution_count": null,
      "metadata": {
        "id": "26ac8009-02ba-4b17-a219-07a936dc56c8"
      },
      "outputs": [],
      "source": [
        "# Pre-condition:\n",
        "# - 'qml' from PennyLane must be imported for quantum operations\n",
        "\n",
        "# Post-condition:\n",
        "# - 'opposite' function converts the quantum state representing a positive integer to its negative counterpart\n",
        "# - 'opposite_inv' function reverts the state back from a negative integer representation to a positive one\n",
        "\n",
        "\n",
        "\n",
        "# Integer Arithmetic Functions\n",
        "\n",
        "# Converts the state of qubits from representing a positive integer to a negative integer\n",
        "def opposite(wires_x):\n",
        "    # Determine the number of qubits\n",
        "    n = len(wires_x)\n",
        "\n",
        "    # Apply Pauli-X gate to each qubit, flipping its state\n",
        "    for i in range(n):\n",
        "        qml.PauliX(wires=wires_x[i])\n",
        "\n",
        "    # Apply Quantum Fourier Transform (QFT) to the wires\n",
        "    qml.QFT(wires=wires_x)\n",
        "\n",
        "    # Add 1 to the value represented by qubits\n",
        "    sum_k(1, wires_x)\n",
        "\n",
        "    # Apply the inverse of Quantum Fourier Transform (QFT)\n",
        "    qml.adjoint(qml.QFT)(wires=wires_x)\n",
        "\n",
        "# Converts the state of qubits from representing a negative integer back to a positive integer\n",
        "def opposite_inv(wires_x):\n",
        "    # Apply the inverse of the 'opposite' function\n",
        "    qml.adjoint(opposite)(wires_x)\n",
        "\n"
      ],
      "id": "26ac8009-02ba-4b17-a219-07a936dc56c8"
    },
    {
      "cell_type": "code",
      "execution_count": null,
      "metadata": {
        "id": "62eb0c19-7b8c-402f-bb9a-bc68e38241d7"
      },
      "outputs": [],
      "source": [
        "# Pre-condition:\n",
        "# - 'qml' from PennyLane must be imported for quantum operations\n",
        "\n",
        "# Post-condition:\n",
        "# - 'sum_k' applies a rotation gate to each qubit in 'wires' based on a scalar 'k'\n",
        "# - 'multiplicacion_escalar' multiplies a quantum state represented by 'wires_x' with scalar 'k', storing the result in 'wires_res'\n",
        "# - 'compute_substraction' computes the subtraction of a point 'pnt' from quantum states represented by 'wires_x' and 'wires_y'\n",
        "\n",
        "\n",
        "# General Arithmetic Functions\n",
        "\n",
        "# Applies a rotation gate based on a scalar value 'k' to a series of qubits\n",
        "def sum_k(k, wires):\n",
        "    # Apply a rotation gate to each qubit based on 'k' and its position in the wires\n",
        "    for j in range(len(wires)):\n",
        "        qml.RZ(k * np.pi / (2**j), wires=wires[j])\n",
        "\n",
        "# Multiplies a quantum state represented by 'wires_x' with a scalar 'k' and stores the result in 'wires_res'\n",
        "def multiplicacion_escalar(k, wires_x, wires_res):\n",
        "    n = len(wires_x)\n",
        "\n",
        "    # Check if there are enough qubits in the result wires\n",
        "    if len(wires_res) < (2*n):\n",
        "        print(\"Not enough result qubits\")\n",
        "        return\n",
        "\n",
        "    # Compute the multiplication result\n",
        "    for i in range(n):\n",
        "        value = k * 2**(n - i - 1)\n",
        "        qml.ctrl(sum_k, control=wires_x[i])(value, wires_res)\n",
        "\n",
        "# Computes the subtraction of a point 'pnt' from quantum states represented by 'wires_x' and 'wires_y'\n",
        "def compute_substraction(pnt, wires_x, wires_y):\n",
        "    # Apply Quantum Fourier Transform (QFT) and subtraction on 'wires_x'\n",
        "    qml.QFT(wires=wires_x)\n",
        "    sum_k(-pnt[0], wires_x)\n",
        "    qml.adjoint(qml.QFT)(wires_x)\n",
        "\n",
        "    # Apply Quantum Fourier Transform (QFT) and subtraction on 'wires_y'\n",
        "    qml.QFT(wires=wires_y)\n",
        "    sum_k(-pnt[1], wires_y)\n",
        "    qml.adjoint(qml.QFT)(wires_y)\n"
      ],
      "id": "62eb0c19-7b8c-402f-bb9a-bc68e38241d7"
    },
    {
      "cell_type": "code",
      "execution_count": null,
      "metadata": {
        "id": "11f71271-8854-4094-b43d-ad4e289e9e4c"
      },
      "outputs": [],
      "source": [
        "# Pre-condition:\n",
        "# - 'qml' from PennyLane and necessary arithmetic functions must be imported\n",
        "# - 'vector' should be a 2-element array representing a vector in 2D\n",
        "# - 'wires_x' and 'wires_y' are the quantum wires representing two vectors\n",
        "# - 'wires_mult' and 'wires_aux' are ancillary wires used in the computation\n",
        "\n",
        "# Post-condition:\n",
        "# - Computes the cross product of two vectors represented by 'wires_x' and 'wires_y'\n",
        "# - The result of the cross product is stored in 'wires_mult'\n",
        "# - Uses ancillary qubits 'wires_aux' for intermediate computations\n",
        "\n",
        "\n",
        "# Function to compute the cross product of two vectors\n",
        "def cross_product(vector, wires_x, wires_y, wires_mult, wires_aux):\n",
        "    # Check if there is at least one ancillary qubit\n",
        "    if len(wires_aux) < 1:\n",
        "        print(\"Not enough ancillary qubits to compute the cross product\")\n",
        "        return\n",
        "\n",
        "    # Prepare the wires for multiplication result\n",
        "    qml.QFT(wires=wires_mult)\n",
        "\n",
        "    # Process for the x-component of the cross product\n",
        "    qml.CNOT(wires=[wires_x[0], wires_aux[0]])\n",
        "    qml.ctrl(opposite_inv, control=wires_aux[0])(wires_x)  # Convert negative to positive\n",
        "    multiplicacion_escalar(vector[1], wires_x, wires_mult)  # Multiply and store result\n",
        "    qml.ctrl(multiplicacion_escalar, control=wires_aux[0])(-2*vector[1], wires_x, wires_mult)\n",
        "    qml.ctrl(opposite, control=wires_aux[0])(wires_x)  # Convert back to original sign\n",
        "    qml.CNOT(wires=[wires_x[0], wires_aux[0]])\n",
        "\n",
        "    # Process for the y-component of the cross product\n",
        "    qml.CNOT(wires=[wires_y[0], wires_aux[0]])\n",
        "    qml.ctrl(opposite_inv, control=wires_aux[0])(wires_y)\n",
        "    multiplicacion_escalar(-vector[0], wires_y, wires_mult)\n",
        "    qml.ctrl(multiplicacion_escalar, control=wires_aux[0])(2*vector[0], wires_y, wires_mult)\n",
        "    qml.ctrl(opposite, control=wires_aux[0])(wires_y)\n",
        "    qml.CNOT(wires=[wires_y[0], wires_aux[0]])\n",
        "\n",
        "    # Finalize the computation and restore the basis\n",
        "    sum_k(-1, wires_mult)\n",
        "    qml.adjoint(qml.QFT)(wires=wires_mult)\n",
        "\n"
      ],
      "id": "11f71271-8854-4094-b43d-ad4e289e9e4c"
    },
    {
      "cell_type": "markdown",
      "metadata": {
        "id": "e442bdf9-6594-49d6-b861-05ddbd8dcee8"
      },
      "source": [
        "The ***compare*** function checks which side of a line a given point is located on."
      ],
      "id": "e442bdf9-6594-49d6-b861-05ddbd8dcee8"
    },
    {
      "cell_type": "code",
      "execution_count": null,
      "metadata": {
        "id": "b070ffbe-c84b-440f-9596-840dbd343e52"
      },
      "outputs": [],
      "source": [
        "# Pre-condition:\n",
        "# - 'qml' from PennyLane and necessary arithmetic functions must be imported\n",
        "# - 'pnt' and 'vector' should be arrays representing a point and a vector in 2D\n",
        "# - 'wires_x', 'wires_y', and 'wire_res' are quantum wires representing x, y coordinates, and the result\n",
        "# - 'wires_aux_original' are ancillary wires used in the computation\n",
        "\n",
        "# Post-condition:\n",
        "# - Compares a given point 'pnt' with a vector 'vector' by computing their cross product\n",
        "# - The result of the comparison is stored in 'wire_res'\n",
        "# - Uses 'wires_x', 'wires_y', and ancillary qubits 'wires_aux_original' for computation\n",
        "# - Restores the quantum state to its initial form after computation\n",
        "\n",
        "\n",
        "# Function to compare a point with a vector using cross product\n",
        "def compare(pnt, vector, wires_x, wires_y, wires_aux_original, wire_res):\n",
        "    # Check if the number of x and y qubits is the same\n",
        "    if not (len(wires_x) == len(wires_y)):\n",
        "        print(\"The number of x qubits must be the same as y qubits\")\n",
        "        return\n",
        "\n",
        "    # Check if there are enough ancillary qubits\n",
        "    if len(wires_aux_original) < (len(wires_x) + len(wires_y) + 2):\n",
        "        print(\"Not enough ancillary qubits\")\n",
        "        return\n",
        "\n",
        "    # Set the wires for auxiliary and multiplication\n",
        "    wires_aux = [wires_aux_original[0]]\n",
        "    wires_mult = wires_aux_original[1:]\n",
        "\n",
        "    # Compute the subtraction (x,y) - (p1, p2)\n",
        "    compute_substraction(pnt, wires_x, wires_y)\n",
        "\n",
        "    # Compute the cross product between the vector and the subtracted point\n",
        "    cross_product(vector, wires_x, wires_y, wires_mult, wires_aux)\n",
        "\n",
        "    # Store the result in the result wire\n",
        "    qml.CNOT(wires=[wires_mult[0], wire_res[0]])\n",
        "    qml.PauliX(wires=wire_res[0])\n",
        "\n",
        "    # Restore the circuit to its initial state\n",
        "    qml.adjoint(cross_product)(vector, wires_x, wires_y, wires_mult, wires_aux)\n",
        "    qml.adjoint(compute_substraction)(pnt, wires_x, wires_y)\n",
        "\n"
      ],
      "id": "b070ffbe-c84b-440f-9596-840dbd343e52"
    },
    {
      "cell_type": "markdown",
      "metadata": {
        "id": "d2263016-edea-4859-bb4d-c691a92ff35b"
      },
      "source": [
        "## Function *is_in_polygon*\n",
        "This function checks whether a point belongs to the interior of a polygon or not. From this function we can build the oracle that will allow us to implement Grover's algorithm."
      ],
      "id": "d2263016-edea-4859-bb4d-c691a92ff35b"
    },
    {
      "cell_type": "code",
      "execution_count": null,
      "metadata": {
        "id": "7d6f98b4-84e9-48af-81c2-74411ac29fb9"
      },
      "outputs": [],
      "source": [
        "# Pre-condition:\n",
        "# - 'qml' from PennyLane and necessary arithmetic functions must be imported\n",
        "# - 'polygon' should be an instance of a polygon class with vertex and vector lists\n",
        "# - 'wires_x' and 'wires_y' are quantum wires representing x, y coordinates\n",
        "# - 'wires_aux' are ancillary wires used in the computation\n",
        "# - 'wires_sum' are quantum wires used for summation\n",
        "\n",
        "# Post-condition:\n",
        "# - Determines if a quantum state representing a point is inside the polygon defined by 'polygon'\n",
        "# - Uses 'wires_x' and 'wires_y' for point coordinates and 'wires_aux' for ancillary computations\n",
        "# - The summation of results across polygon edges is calculated using 'wires_sum'\n",
        "# - Restores the quantum state to its initial configuration after computation\n",
        "\n",
        "# Function to determine if a point is inside a polygon\n",
        "def is_in_polygon(polygon, wires_x, wires_y, wires_aux, wires_sum):\n",
        "    nVertex = polygon.nVertex  # Number of vertices in the polygon\n",
        "    m = int(np.ceil(np.log2(nVertex)))  # Calculate the number of qubits needed for summation\n",
        "\n",
        "    # Check if there are enough sum qubits\n",
        "    if len(wires_sum) < m:\n",
        "        print(\"Not enough sum qubits\")\n",
        "        return\n",
        "\n",
        "    # Check if there are enough ancillary qubits\n",
        "    if len(wires_aux) < (2*n + 3):\n",
        "        print(\"Not enough ancillary qubits\")\n",
        "        return\n",
        "\n",
        "    # Set wires for edge comparison and result storage\n",
        "    wires_aux_edge = wires_aux[:2*n+2]\n",
        "    wires_res_edge = [wires_aux[2*n+2]]\n",
        "\n",
        "    # Prepare the sum register using Quantum Fourier Transform\n",
        "    qml.QFT(wires=wires_sum)\n",
        "\n",
        "    # Check each edge of the polygon\n",
        "    for i in range(nVertex):\n",
        "        pnt = polygon.vertex_list[i]  # Point of the polygon's vertex\n",
        "        vector = polygon.vector_list[i]  # Direction vector of the edge\n",
        "        compare(pnt, vector, wires_x, wires_y, wires_aux_edge, wires_res_edge)\n",
        "        qml.ctrl(sum_k, control=wires_res_edge[0])(1, wires_sum)\n",
        "        qml.adjoint(compare)(pnt, vector, wires_x, wires_y, wires_aux_edge, wires_res_edge)\n",
        "\n",
        "    # Restore the sum register to its initial state\n",
        "    qml.adjoint(qml.QFT)(wires=wires_sum)\n"
      ],
      "id": "7d6f98b4-84e9-48af-81c2-74411ac29fb9"
    },
    {
      "cell_type": "markdown",
      "metadata": {
        "id": "541b14fd-72ea-4557-9161-e20ace4a91c9"
      },
      "source": [
        "#### Example of is_in_polygon operation"
      ],
      "id": "541b14fd-72ea-4557-9161-e20ace4a91c9"
    },
    {
      "cell_type": "code",
      "execution_count": null,
      "metadata": {
        "colab": {
          "base_uri": "https://localhost:8080/",
          "height": 455
        },
        "id": "f1d67c28-975a-4161-a269-db1f559afd55",
        "outputId": "30d4cb29-ea7d-43d1-c4b5-2d96729ff25f"
      },
      "outputs": [
        {
          "output_type": "display_data",
          "data": {
            "text/plain": [
              "<Figure size 640x480 with 1 Axes>"
            ],
            "image/png": "[encoded data removed]"
          },
          "metadata": {
            "image/png": {
              "width": 570,
              "height": 438
            }
          }
        }
      ],
      "source": [
        "# Pre-condition:\n",
        "# - 'np' (NumPy) and 'plt' (Matplotlib's Pyplot) must be imported\n",
        "# - 'draw_board' function should be defined\n",
        "# - 'pcPolygon' class should be defined with 'initialize' and 'draw' methods\n",
        "\n",
        "# Post-condition:\n",
        "# - Creates a polygon instance with the given vertices\n",
        "# - Initializes the polygon with vertices defined in 'list_vertex'\n",
        "# - Draws the coordinate system and the polygon on the grid using Matplotlib\n",
        "\n",
        "# Create a polygon with specified vertices\n",
        "list_vertex = [np.array((2, 0)), np.array((3, 1)), np.array((3, 3)),\n",
        "               np.array((2, 3)), np.array((0, 2))]  # List of vertices for the polygon\n",
        "new_polygon = pcPolygon()  # Initialize a new polygon instance\n",
        "new_polygon.initialize(list_vertex)  # Initialize the polygon with the list of vertices\n",
        "\n",
        "# Draw the problem setup\n",
        "draw_board()  # Draw the grid or coordinate system\n",
        "new_polygon.draw()  # Draw the polygon on the grid\n",
        "\n",
        "\n"
      ],
      "id": "f1d67c28-975a-4161-a269-db1f559afd55"
    },
    {
      "cell_type": "code",
      "execution_count": null,
      "metadata": {
        "id": "7c6b7284-6bc7-4219-bb79-b6a960f2c095"
      },
      "outputs": [],
      "source": [
        "# Pre-condition:\n",
        "# - NumPy (np) and PennyLane (qml) must be imported\n",
        "# - 'is_in_polygon' function should be defined\n",
        "# - 'new_polygon' instance should be initialized with vertices\n",
        "# - 'qml.device' must be set with appropriate backend and number of wires\n",
        "\n",
        "# Post-condition:\n",
        "# - Sets up a quantum circuit on the specified device\n",
        "# - Initializes a quantum node to execute the circuit\n",
        "# - Defines wires for different parts of the circuit: coordinates, auxiliary, and summing\n",
        "# - The circuit checks if a given point (a, b) is inside the polygon\n",
        "\n",
        "# Create the quantum device\n",
        "n = 3  # Number of qubits for representing x and y coordinates\n",
        "m = int(np.ceil(np.log2(new_polygon.nVertex)))  # Number of qubits needed to sum the results\n",
        "nWireCount = 2*n + (2*n + 3) + m  # Total number of wires needed\n",
        "\n",
        "# Define the quantum device with the specified number of wires\n",
        "dev = qml.device(\"lightning.qubit\", wires = nWireCount, shots = 1)\n",
        "@qml.qnode(dev)\n",
        "def circuit(a, b, polygon, wires_a, wires_b, wires_aux, wires_sum):\n",
        "    # Embed the point (a, b) into the quantum circuit\n",
        "    qml.BasisEmbedding(a, wires = wires_a)\n",
        "    qml.BasisEmbedding(b, wires = wires_b)\n",
        "\n",
        "    # Call the function to check if the point is inside the polygon\n",
        "    is_in_polygon(polygon, wires_a, wires_b, wires_aux, wires_sum)\n",
        "    return qml.sample()\n",
        "\n",
        "# Set wires for different parts of the circuit\n",
        "wires_a = list(range(0, n))          # Wires for x-coordinates\n",
        "wires_b = list(range(n, 2*n))        # Wires for y-coordinates\n",
        "wires_aux = list(range(2*n, 2*n + (2*n + 3)))  # Auxiliary wires\n",
        "wires_sum = list(range(2*n + (2*n + 3), 2*n + (2*n + 3) + m))  # Wires for summing results\n",
        "\n"
      ],
      "id": "7c6b7284-6bc7-4219-bb79-b6a960f2c095"
    },
    {
      "cell_type": "code",
      "execution_count": null,
      "metadata": {
        "id": "94df7868-0eff-4842-8a62-5ca037d67e77"
      },
      "outputs": [],
      "source": [],
      "id": "94df7868-0eff-4842-8a62-5ca037d67e77"
    },
    {
      "cell_type": "code",
      "execution_count": null,
      "metadata": {
        "colab": {
          "base_uri": "https://localhost:8080/",
          "height": 526
        },
        "id": "303c3b6a-5998-4ac9-a13e-e64b9d9a3c75",
        "outputId": "cfe57d41-6343-472a-937c-c5ecc8e1e37d"
      },
      "outputs": [
        {
          "output_type": "stream",
          "name": "stdout",
          "text": [
            "Time taken to execute the oracle: 16.40455412864685 seconds\n",
            "The point ( 1 , 0 ) NO belongs to the polygon\n",
            "Time taken to execute the oracle: 10.58214259147644 seconds\n",
            "The point ( 2 , 1 ) YES belongs to the polygon\n"
          ]
        },
        {
          "output_type": "display_data",
          "data": {
            "text/plain": [
              "<Figure size 640x480 with 1 Axes>"
            ],
            "image/png": "[encoded data removed]"
          },
          "metadata": {
            "image/png": {
              "width": 570,
              "height": 438
            }
          }
        }
      ],
      "source": [
        "# Pre-condition:\n",
        "# - 'circuit' function must be defined\n",
        "# - 'binary_to_integer' function should be defined\n",
        "# - 'new_polygon' instance should be initialized with vertices\n",
        "# - Matplotlib (plt) must be imported\n",
        "# - 'draw_board' function should be defined\n",
        "\n",
        "# Post-condition:\n",
        "# - Executes the quantum circuit for two different points\n",
        "# - Determines if each point belongs inside the polygon\n",
        "# - Prints the execution time for each oracle call\n",
        "# - Plots the points on a graph with appropriate colors based on their inclusion in the polygon\n",
        "# - Draws the polygon on the board\n",
        "\n",
        "\n",
        "import time\n",
        "\n",
        "# Example 1: Check if point (1, 0) is inside the polygon\n",
        "start_time = time.time()  # Start timer\n",
        "a, b = 1, 0  # Define point coordinates\n",
        "sol = circuit(a, b, new_polygon, wires_a, wires_b, wires_aux, wires_sum)  # Execute the circuit\n",
        "print(\"Time taken to execute the oracle:\", time.time() - start_time, \"seconds\")  # Display execution time\n",
        "sol_str = \"YES\" if binary_to_integer(sol[wires_sum]) == 0 else \"NO\"  # Interpret the result\n",
        "print(\"The point (\", a, \",\", b, \")\", sol_str, \"belongs to the polygon\")  # Display result\n",
        "color_point = \"red\" if binary_to_integer(sol[wires_sum]) == 0 else \"green\"  # Choose color based on result\n",
        "plt.scatter(a, b, color = color_point)  # Plot the point\n",
        "\n",
        "# Example 2: Check if point (2, 1) is inside the polygon\n",
        "start_time = time.time()  # Start timer\n",
        "a, b = 2, 1  # Define point coordinates\n",
        "sol = circuit(a, b, new_polygon, wires_a, wires_b, wires_aux, wires_sum)  # Execute the circuit\n",
        "print(\"Time taken to execute the oracle:\", time.time() - start_time, \"seconds\")  # Display execution time\n",
        "sol_str = \"YES\" if binary_to_integer(sol[wires_sum]) == 0 else \"NO\"  # Interpret the result\n",
        "print(\"The point (\", a, \",\", b, \")\", sol_str, \"belongs to the polygon\")  # Display result\n",
        "color_point = \"red\" if binary_to_integer(sol[wires_sum]) == 0 else \"green\"  # Choose color based on result\n",
        "plt.scatter(a, b, color = color_point)  # Plot the point\n",
        "\n",
        "# Draw the polygon\n",
        "draw_board()  # Draw the board\n",
        "new_polygon.draw()  # Draw the polygon\n",
        "\n"
      ],
      "id": "303c3b6a-5998-4ac9-a13e-e64b9d9a3c75"
    },
    {
      "cell_type": "code",
      "execution_count": null,
      "metadata": {
        "id": "13e07347-5703-43a5-b0f8-44005e598219"
      },
      "outputs": [],
      "source": [],
      "id": "13e07347-5703-43a5-b0f8-44005e598219"
    },
    {
      "cell_type": "markdown",
      "metadata": {
        "id": "8e269f30-f11a-4a0c-bdb0-87925328a1b8"
      },
      "source": [
        "## Several polygons"
      ],
      "id": "8e269f30-f11a-4a0c-bdb0-87925328a1b8"
    },
    {
      "cell_type": "code",
      "execution_count": null,
      "metadata": {
        "id": "dc60de86-d431-4d1d-bdc6-e2c68a04f598"
      },
      "outputs": [],
      "source": [
        "# Pre-condition:\n",
        "# - 'is_in_polygon' function must be defined\n",
        "# - Quantum Machine Learning library (qml) must be imported\n",
        "# - 'polygon_list' must be a list of initialized polygon objects\n",
        "# - 'wires_x', 'wires_y', 'wires_aux_origin', and 'wires_res' must be defined as quantum wires\n",
        "\n",
        "\n",
        "# Post-condition:\n",
        "# - Executes the 'is_in_polygon' function for each polygon in the list\n",
        "# - Sets 'wires_res' to 1 if the point is outside all polygons in the list\n",
        "\n",
        "\n",
        "def is_in_polygon_list(polygon_list, wires_x, wires_y, wires_aux_origin, wires_res):\n",
        "    '''\n",
        "    Determines if a point, represented by quantum wires 'wires_x' and 'wires_y',\n",
        "    is inside any of the polygons in 'polygon_list'. Sets 'wires_res' to 1 if the point\n",
        "    is outside all polygons.\n",
        "\n",
        "    Args:\n",
        "        polygon_list: List of polygon objects to check\n",
        "        wires_x: Quantum wires representing the x-coordinate of the point\n",
        "        wires_y: Quantum wires representing the y-coordinate of the point\n",
        "        wires_aux_origin: Auxiliary quantum wires for computation\n",
        "        wires_res: Quantum wire to store the result (1 if point is outside all polygons)\n",
        "\n",
        "    Returns:\n",
        "        None: Alters 'wires_res' to reflect whether the point is outside all polygons\n",
        "    '''\n",
        "\n",
        "    # Check if there are enough ancillary qubits\n",
        "    max_vertex = max(polygon.nVertex for polygon in polygon_list)\n",
        "    m = int(np.ceil(np.log2(max_vertex)))\n",
        "\n",
        "    # Return if there are not enough qubits\n",
        "    if len(wires_aux_origin) < (2 * len(wires_x) + 3) + m:\n",
        "        print(\"Not enough ancillary qubits\")\n",
        "        return\n",
        "\n",
        "    # Set wires for summing and auxiliary operations\n",
        "    wires_sum = wires_aux_origin[:m]\n",
        "    wires_aux = wires_aux_origin[m:]\n",
        "\n",
        "    # Check if the point is inside any polygon in the list\n",
        "    for polygon in polygon_list:\n",
        "        is_in_polygon(polygon, wires_x, wires_y, wires_aux, wires_sum)\n",
        "        vStringCombo = ''.join(str(0) for j in range(len(wires_sum)))\n",
        "        qml.MultiControlledX(control_wires=wires_sum, wires=wires_res[0], control_values=vStringCombo)\n",
        "        qml.adjoint(is_in_polygon)(polygon, wires_x, wires_y, wires_aux, wires_sum)\n",
        "\n",
        "    # Invert the result\n",
        "    qml.PauliX(wires=wires_res[0])\n"
      ],
      "id": "dc60de86-d431-4d1d-bdc6-e2c68a04f598"
    },
    {
      "cell_type": "code",
      "execution_count": null,
      "metadata": {
        "colab": {
          "base_uri": "https://localhost:8080/",
          "height": 455
        },
        "id": "a409f6a5-7380-4275-81da-f75ce382e1c1",
        "outputId": "ca05754a-f9f9-408c-da7e-9139e6ee6fb5"
      },
      "outputs": [
        {
          "output_type": "display_data",
          "data": {
            "text/plain": [
              "<Figure size 640x480 with 1 Axes>"
            ],
            "image/png": "[encoded data removed]"
          },
          "metadata": {
            "image/png": {
              "width": 570,
              "height": 438
            }
          }
        }
      ],
      "source": [
        "# Pre-condition:\n",
        "# - The 'pcPolygon' class and 'draw_board' function must be defined\n",
        "# - The 'np' module from NumPy library must be imported\n",
        "\n",
        "# Post-condition:\n",
        "# - Two polygons are defined, initialized, and added to 'polygon_list'\n",
        "# - The polygons are drawn on the board using their 'draw' method\n",
        "\n",
        "\n",
        "# Create a list to store polygons\n",
        "polygon_list = list()\n",
        "\n",
        "# Define the first polygon and add it to the list\n",
        "# The first polygon is defined by four vertices\n",
        "list_vertex = [np.array((0, 2)), np.array((3, 2)), np.array((3, 3)), np.array((1, 3))]\n",
        "new_polygon = pcPolygon()  # Create a new polygon instance\n",
        "new_polygon.initialize(list_vertex)  # Initialize the polygon with the list of vertices\n",
        "polygon_list.append(new_polygon)  # Add the polygon to the list\n",
        "\n",
        "# Define the second polygon and add it to the list\n",
        "# The second polygon is defined by four vertices\n",
        "list_vertex = [np.array((1, 0)), np.array((3, 0)), np.array((2, 1)), np.array((1, 1))]\n",
        "new_polygon = pcPolygon()  # Create another new polygon instance\n",
        "new_polygon.initialize(list_vertex)  # Initialize the polygon with the list of vertices\n",
        "polygon_list.append(new_polygon)  # Add the polygon to the list\n",
        "\n",
        "# Draw the problem setup\n",
        "draw_board()  # Draw the grid or board\n",
        "for polygon in polygon_list:\n",
        "    polygon.draw()  # Draw each polygon in the list\n"
      ],
      "id": "a409f6a5-7380-4275-81da-f75ce382e1c1"
    },
    {
      "cell_type": "code",
      "execution_count": null,
      "metadata": {
        "id": "abf67290-ee49-46dd-8592-82cf40ce3fee"
      },
      "outputs": [],
      "source": [],
      "id": "abf67290-ee49-46dd-8592-82cf40ce3fee"
    },
    {
      "cell_type": "code",
      "execution_count": null,
      "metadata": {
        "id": "e335ccc5-ef27-48e0-afd4-c264f6a1ac69"
      },
      "outputs": [],
      "source": [
        "# Pre-condition:\n",
        "# - The 'qml' module from PennyLane must be imported\n",
        "# - The 'is_in_polygon_list' function must be defined\n",
        "# - The 'polygon_list' should be initialized with polygons\n",
        "# - The 'np' module from NumPy library must be imported\n",
        "\n",
        "# Post-condition:\n",
        "# - A quantum circuit is created to check if a point (a, b) is inside any polygon in the polygon list\n",
        "# - The circuit uses qubits for x and y coordinates, auxiliary qubits, and a result qubit\n",
        "# - The circuit's output can be sampled to get the result\n",
        "\n",
        "\n",
        "# Set the number of qubits for x and y coordinates\n",
        "n = 3\n",
        "\n",
        "## Get the m value\n",
        "wire_aux_origin = list(range(2*n, 2*n + (2*n + 3) + m))\n",
        "\n",
        "\n",
        "# Determine the maximum number of vertices in the polygons\n",
        "max_vertex = 0\n",
        "for polygon in polygon_list:\n",
        "    max_vertex = max(max_vertex, polygon.nVertex)\n",
        "m = int(np.ceil(np.log2(max_vertex)))  # Calculate the number of qubits needed for the sum operation\n",
        "\n",
        "# Define the qubit wires\n",
        "wires_a = list(range(0, n))  # Qubits for x coordinate\n",
        "wires_b = list(range(n, 2*n))  # Qubits for y coordinate\n",
        "wires_aux_origin = list(range(2*n, 2*n + (2*n + 3) + m))  # Auxiliary qubits\n",
        "wires_res = [wire_aux_origin[-1] + 1]  # Result qubit\n",
        "nTotalWires = wires_res[0] + 1  # Total number of qubits\n",
        "\n",
        "# Define the quantum device\n",
        "dev = qml.device(\"lightning.qubit\", wires=nTotalWires, shots=1)\n",
        "@qml.qnode(dev)\n",
        "def circuit(a, b, polygon_list, wires_a, wires_b, wires_aux, wires_res):\n",
        "    # Set the input point\n",
        "    qml.BasisEmbedding(a, wires=wires_a)\n",
        "    qml.BasisEmbedding(b, wires=wires_b)\n",
        "\n",
        "    # Call the function to check if the point is in any polygon\n",
        "    is_in_polygon_list(polygon_list, wires_a, wires_b, wires_aux, wires_res)\n",
        "    return qml.sample()\n"
      ],
      "id": "e335ccc5-ef27-48e0-afd4-c264f6a1ac69"
    },
    {
      "cell_type": "code",
      "execution_count": null,
      "metadata": {
        "id": "71c53454-ccd8-4261-b200-5ddfad8ed893"
      },
      "outputs": [],
      "source": [],
      "id": "71c53454-ccd8-4261-b200-5ddfad8ed893"
    },
    {
      "cell_type": "code",
      "execution_count": null,
      "metadata": {
        "colab": {
          "base_uri": "https://localhost:8080/",
          "height": 562
        },
        "id": "6181298f-e9b9-4c02-906c-63aeeb2b2389",
        "outputId": "843324ed-e677-404d-aca2-e6252a86d44d"
      },
      "outputs": [
        {
          "output_type": "stream",
          "name": "stdout",
          "text": [
            "The point (0, 1) NO belongs to the polygon\n",
            "Time taken to execute the oracle: 51.38609075546265 seconds\n",
            "The point (1, 2) YES belongs to the polygon\n",
            "Time taken to execute the oracle: 39.01356053352356 seconds\n",
            "The point (3, 1) NO belongs to the polygon\n",
            "Time taken to execute the oracle: 38.4772469997406 seconds\n"
          ]
        },
        {
          "output_type": "display_data",
          "data": {
            "text/plain": [
              "<Figure size 640x480 with 1 Axes>"
            ],
            "image/png": "[encoded data removed]"
          },
          "metadata": {
            "image/png": {
              "width": 570,
              "height": 438
            }
          }
        }
      ],
      "source": [
        "# Pre-condition:\n",
        "# - The 'circuit' function must be defined and set up correctly\n",
        "# - The 'binary_to_integer' function must be defined for converting binary to integer\n",
        "# - The 'plt' module from matplotlib must be imported for plotting\n",
        "# - The 'polygon_list' should be initialized with polygons\n",
        "# - The 'draw_board' function should be defined to draw the grid\n",
        "# - The 'time' module must be imported to measure execution time\n",
        "\n",
        "# Post-condition:\n",
        "# - The results for each point (a, b) will be displayed, indicating whether each point is inside the polygon\n",
        "# - The points will be plotted on a grid, with their color indicating their status (inside or outside the polygon)\n",
        "# - The execution time for each oracle call is displayed\n",
        "\n",
        "\n",
        "# Example 1: Check if the point (0, 1) is in the polygon\n",
        "start_time = time.time()\n",
        "a, b = 0, 1\n",
        "solution = circuit(a, b, polygon_list, wires_a, wires_b, wire_aux_origin, wires_res)\n",
        "solution_str = \"YES\" if binary_to_integer(solution[wires_res]) == 0 else \"NO\"\n",
        "print(f\"The point ({a}, {b}) {solution_str} belongs to the polygon\")\n",
        "print(\"Time taken to execute the oracle:\", time.time() - start_time, \"seconds\")\n",
        "color_point = \"red\" if binary_to_integer(solution[wires_res]) == 0 else \"green\"\n",
        "plt.scatter(a, b, color=color_point)\n",
        "\n",
        "# Example 2: Check if the point (1, 2) is in the polygon\n",
        "start_time = time.time()\n",
        "a, b = 1, 2\n",
        "solution = circuit(a, b, polygon_list, wires_a, wires_b, wire_aux_origin, wires_res)\n",
        "solution_str = \"YES\" if binary_to_integer(solution[wires_res]) == 0 else \"NO\"\n",
        "print(f\"The point ({a}, {b}) {solution_str} belongs to the polygon\")\n",
        "print(\"Time taken to execute the oracle:\", time.time() - start_time, \"seconds\")\n",
        "color_point = \"red\" if binary_to_integer(solution[wires_res]) == 0 else \"green\"\n",
        "plt.scatter(a, b, color=color_point)\n",
        "\n",
        "# Example 3: Check if the point (3, 1) is in the polygon\n",
        "start_time = time.time()\n",
        "a, b = 3, 1\n",
        "solution = circuit(a, b, polygon_list, wires_a, wires_b, wire_aux_origin, wires_res)\n",
        "solution_str = \"YES\" if binary_to_integer(solution[wires_res]) == 0 else \"NO\"\n",
        "print(f\"The point ({a}, {b}) {solution_str} belongs to the polygon\")\n",
        "print(\"Time taken to execute the oracle:\", time.time() - start_time, \"seconds\")\n",
        "color_point = \"red\" if binary_to_integer(solution[wires_res]) == 0 else \"green\"\n",
        "plt.xlabel('X coordinate')\n",
        "plt.ylabel('Y coordinate')\n",
        "plt.scatter(a, b, color=color_point)\n",
        "\n",
        "# Draw the problem setup\n",
        "draw_board()\n",
        "for polygon in polygon_list:\n",
        "    polygon.draw()\n",
        "\n"
      ],
      "id": "6181298f-e9b9-4c02-906c-63aeeb2b2389"
    },
    {
      "cell_type": "markdown",
      "metadata": {
        "id": "3d3d360d-3988-4c32-9382-1a3a8dfdec29"
      },
      "source": [
        "## Grover's algorithm\n",
        "Once we have built the previous functions, we can build Grover's algorithm"
      ],
      "id": "3d3d360d-3988-4c32-9382-1a3a8dfdec29"
    },
    {
      "cell_type": "code",
      "execution_count": null,
      "metadata": {
        "id": "36cdf023-3b08-4f2f-bb6c-348b515e7c67"
      },
      "outputs": [],
      "source": [],
      "id": "36cdf023-3b08-4f2f-bb6c-348b515e7c67"
    },
    {
      "cell_type": "code",
      "execution_count": null,
      "metadata": {
        "id": "2151168d-8d95-4d89-a249-f025b08c70da"
      },
      "outputs": [],
      "source": [
        "## Disfusor operator\n",
        "def DifusorOperator(wires_x, wires_y, wires_aux):\n",
        "    ## Set the wires_aux\n",
        "    qml.PauliX(wires = wires_aux[0])\n",
        "    qml.Hadamard(wires = wires_aux[0])\n",
        "\n",
        "    ## Difusor phase\n",
        "    apply_hadamard(wires_x)\n",
        "    apply_hadamard(wires_y)\n",
        "\n",
        "    wires_join = wires_x + wires_y\n",
        "    vStringCombo = ''.join(str(0) for j in range(len(wires_join)))\n",
        "    qml.MultiControlledX(control_wires = wires_join, wires = wires_aux[0], control_values = vStringCombo)\n",
        "    qml.QubitUnitary(-np.eye(2), wires = wires_x[1])\n",
        "\n",
        "    apply_hadamard(wires_x)\n",
        "    apply_hadamard(wires_y)\n",
        "\n",
        "    ## Restore the qubit auxiliar\n",
        "    qml.Hadamard(wires = wires_aux[0])\n",
        "    qml.PauliX(wires = wires_aux[0])\n",
        "    return"
      ],
      "id": "2151168d-8d95-4d89-a249-f025b08c70da"
    },
    {
      "cell_type": "code",
      "execution_count": null,
      "metadata": {
        "id": "a6661ec3-aa72-4862-802c-0d528c6cf01c"
      },
      "outputs": [],
      "source": [],
      "id": "a6661ec3-aa72-4862-802c-0d528c6cf01c"
    },
    {
      "cell_type": "markdown",
      "metadata": {
        "id": "8897a411-0f23-44f1-b358-7b2d8f3c4ff9"
      },
      "source": [
        "We define a quantum circuit to check that everything is correct."
      ],
      "id": "8897a411-0f23-44f1-b358-7b2d8f3c4ff9"
    },
    {
      "cell_type": "code",
      "execution_count": null,
      "metadata": {
        "id": "1199071e-8bcf-4411-a3b8-d91ecb77dda6"
      },
      "outputs": [],
      "source": [
        "# Pre-condition:\n",
        "# - The 'apply_hadamard', 'is_in_polygon_list', and 'DifusorOperator' functions must be defined\n",
        "# - The 'qml' module from PennyLane must be imported and set up\n",
        "# - The 'polygon_list' should be initialized with polygons\n",
        "\n",
        "# Post-condition:\n",
        "# - The 'circuit' function is ready to be used to check if points are in the specified polygons\n",
        "# - The 'list_points' list is initialized to store points evaluated by the circuit\n",
        "# - The quantum device 'dev' is set up with the appropriate number of wires and shots\n",
        "\n",
        "\n",
        "# Set wires for the quantum circuit\n",
        "wires_a = list(range(0, n))\n",
        "wires_b = list(range(n, 2*n))\n",
        "wire_aux_origin = list(range(2*n, 2*n + (2*n + 3) + m))\n",
        "wires_res = [wire_aux_origin[-1] + 1]\n",
        "nTotalWires = wires_res[0] + 1\n",
        "\n",
        "# Define the quantum device\n",
        "dev = qml.device(\"default.qubit\", wires=nTotalWires, shots=1)\n",
        "\n",
        "@qml.qnode(dev)\n",
        "def circuit(polygon_list, wires_x, wires_y, wires_aux_origin, wires_res):\n",
        "    # Set the superposition state for the input qubits\n",
        "    apply_hadamard(wires_x[1:])\n",
        "    apply_hadamard(wires_y[1:])\n",
        "\n",
        "    # Apply the Grover iterator\n",
        "    qml.PauliX(wires=wires_res[0])\n",
        "    qml.Hadamard(wires=wires_res[0])\n",
        "    is_in_polygon_list(polygon_list, wires_x, wires_y, wires_aux_origin, wires_res)\n",
        "    qml.Hadamard(wires=wires_res[0])\n",
        "    qml.PauliX(wires=wires_res[0])\n",
        "    DifusorOperator(wires_x[1:], wires_y[1:], wires_aux_origin)\n",
        "    return qml.sample()\n",
        "\n",
        "# Set auxiliary wires for the computation\n",
        "wires_aux = list(range(2*n, 2*n + (2*n + 3)))\n",
        "wires_sum = list(range(2*n + (2*n + 3), 2*n + (2*n + 3) + m))\n",
        "\n",
        "# Initialize a list to store the points\n",
        "list_points = list()"
      ],
      "id": "1199071e-8bcf-4411-a3b8-d91ecb77dda6"
    },
    {
      "cell_type": "code",
      "execution_count": null,
      "metadata": {
        "id": "4be030dc-5256-4893-a762-5dde193f2e2f"
      },
      "outputs": [],
      "source": [],
      "id": "4be030dc-5256-4893-a762-5dde193f2e2f"
    },
    {
      "cell_type": "code",
      "execution_count": null,
      "metadata": {
        "colab": {
          "base_uri": "https://localhost:8080/"
        },
        "id": "b81d111c-22a1-4166-a530-e4b6571719c6",
        "outputId": "a3954168-31e1-4ddf-d36f-9684964c856d"
      },
      "outputs": [
        {
          "output_type": "stream",
          "name": "stdout",
          "text": [
            "The point is at ( 0 , 3 )\n",
            "Time taken to execute the oracle was: 51.49953293800354 seconds\n"
          ]
        }
      ],
      "source": [
        "# Pre-condition:\n",
        "# - The 'circuit' function and 'binary_to_integer' utility must be defined and ready to use\n",
        "# - The 'polygon_list' should be populated with polygons\n",
        "# - The 'wires_a', 'wires_b', and 'wires_res' arrays should be set up for the quantum circuit\n",
        "# - The 'time' module must be imported for tracking execution time\n",
        "\n",
        "# Post-condition:\n",
        "# - The point evaluated by the quantum circuit is printed and added to 'list_points'\n",
        "# - The execution time for the oracle is displayed\n",
        "\n",
        "\n",
        "# Start time tracking\n",
        "start_time = time.time()\n",
        "\n",
        "# Execute the quantum circuit\n",
        "solution = circuit(polygon_list, wires_a, wires_b, wire_aux_origin, wires_res)\n",
        "\n",
        "# Convert binary qubit states to integer values for point coordinates\n",
        "solution_point = np.array((binary_to_integer(solution[wires_a]), binary_to_integer(solution[wires_b])))\n",
        "print(\"The point is at (\", solution_point[0], \",\", solution_point[1], \")\")\n",
        "\n",
        "# Append the solution point to the list of points\n",
        "list_points.append(solution_point)\n",
        "\n",
        "# Print the execution time of the oracle\n",
        "print(\"Time taken to execute the oracle was:\", time.time() - start_time, \"seconds\")\n",
        "\n"
      ],
      "id": "b81d111c-22a1-4166-a530-e4b6571719c6"
    },
    {
      "cell_type": "code",
      "execution_count": null,
      "metadata": {
        "id": "90fd7b6f-14f9-4647-9bc2-5fa60ac02377",
        "colab": {
          "base_uri": "https://localhost:8080/"
        },
        "outputId": "aa75b3db-5044-472d-e9fd-5b0754d25dbb"
      },
      "outputs": [
        {
          "output_type": "stream",
          "name": "stdout",
          "text": [
            "The point is at ( 0 , 1 )\n",
            "Time taken to execute the oracle was: 55.64759111404419 seconds\n",
            "The point is at ( 0 , 1 )\n",
            "Time taken to execute the oracle was: 54.25627851486206 seconds\n",
            "The point is at ( 0 , 1 )\n",
            "Time taken to execute the oracle was: 55.204444885253906 seconds\n",
            "The point is at ( 0 , 1 )\n",
            "Time taken to execute the oracle was: 54.582637786865234 seconds\n",
            "The point is at ( 0 , 3 )\n",
            "Time taken to execute the oracle was: 53.36874270439148 seconds\n",
            "The point is at ( 0 , 3 )\n",
            "Time taken to execute the oracle was: 51.31550431251526 seconds\n",
            "The point is at ( 3 , 1 )\n",
            "Time taken to execute the oracle was: 52.874751329422 seconds\n",
            "The point is at ( 0 , 1 )\n",
            "Time taken to execute the oracle was: 51.59132409095764 seconds\n",
            "The point is at ( 3 , 1 )\n",
            "Time taken to execute the oracle was: 51.16220259666443 seconds\n",
            "The point is at ( 3 , 1 )\n",
            "Time taken to execute the oracle was: 52.774937868118286 seconds\n"
          ]
        }
      ],
      "source": [
        "# Pre-condition:\n",
        "# - The 'circuit' function, 'binary_to_integer' utility, and 'time' module must be defined and ready to use\n",
        "# - The 'polygon_list' should be populated with polygons\n",
        "# - The 'wires_a', 'wires_b', and 'wires_res' arrays should be set up for the quantum circuit\n",
        "# - The number of points to evaluate (nPoints) should be defined\n",
        "\n",
        "# Post-condition:\n",
        "# - Executes the quantum circuit 'nPoints' times, each time printing the coordinates of the evaluated point and the execution time\n",
        "# - All evaluated points are added to 'list_points'\n",
        "\n",
        "\n",
        "# Initialize the list to store points\n",
        "nPoints = 10\n",
        "list_points = []\n",
        "\n",
        "# Loop through the specified number of points\n",
        "for i in range(nPoints):\n",
        "    # Start time tracking for each iteration\n",
        "    start_time = time.time()\n",
        "\n",
        "    # Execute the quantum circuit and get the solution\n",
        "    solution = circuit(polygon_list, wires_a, wires_b, wire_aux_origin, wires_res)\n",
        "\n",
        "    # Convert binary qubit states to integer values for point coordinates\n",
        "    solution_point = np.array((binary_to_integer(solution[wires_a]), binary_to_integer(solution[wires_b])))\n",
        "    print(\"The point is at (\", solution_point[0], \",\", solution_point[1], \")\")\n",
        "\n",
        "    # Append the solution point to the list of points\n",
        "    list_points.append(solution_point)\n",
        "\n",
        "    # Print the execution time of the oracle for each point\n",
        "    print(\"Time taken to execute the oracle was:\", time.time() - start_time, \"seconds\")"
      ],
      "id": "90fd7b6f-14f9-4647-9bc2-5fa60ac02377"
    },
    {
      "cell_type": "code",
      "execution_count": null,
      "metadata": {
        "id": "c2c28690-1672-4f53-905c-534d11d141b7"
      },
      "outputs": [],
      "source": [],
      "id": "c2c28690-1672-4f53-905c-534d11d141b7"
    },
    {
      "cell_type": "code",
      "execution_count": null,
      "metadata": {
        "id": "e2b277cc-114d-4820-9020-c6a0ecb40ede",
        "colab": {
          "base_uri": "https://localhost:8080/",
          "height": 455
        },
        "outputId": "73015312-e2b5-4b09-c38d-5bc555bb894b"
      },
      "outputs": [
        {
          "output_type": "display_data",
          "data": {
            "text/plain": [
              "<Figure size 640x480 with 1 Axes>"
            ],
            "image/png": "[encoded data removed]"
          },
          "metadata": {
            "image/png": {
              "width": 570,
              "height": 438
            }
          }
        }
      ],
      "source": [
        "# Pre-condition:\n",
        "# - The 'draw_board', 'draw_points', and 'polygon.draw' functions must be defined and ready to use\n",
        "# - The 'polygon_list' should contain the list of polygons to be drawn\n",
        "# - The 'list_points' should contain the list of points to be plotted\n",
        "# Post-condition:\n",
        "# - The computational grid is drawn with polygons and points plotted according to their respective positions\n",
        "\n",
        "# Function to draw the computational problem on the board\n",
        "def draw_problem():\n",
        "    # Draw the grid or board where the problem is set\n",
        "    draw_board()\n",
        "\n",
        "    # Loop through each polygon in the polygon list and draw them\n",
        "    for polygon in polygon_list:\n",
        "        polygon.draw()\n",
        "\n",
        "    # Draw the points calculated in the quantum circuit\n",
        "    draw_points(list_points)\n",
        "\n",
        "# Execute the function to draw the problem\n",
        "draw_problem()\n",
        "\n"
      ],
      "id": "e2b277cc-114d-4820-9020-c6a0ecb40ede"
    },
    {
      "cell_type": "markdown",
      "source": [
        "Cite this work:\n"
      ],
      "metadata": {
        "id": "NydXS4oJ9S-9"
      },
      "id": "NydXS4oJ9S-9"
    }
  ],
  "metadata": {
    "colab": {
      "provenance": []
    },
    "kernelspec": {
      "display_name": "Python 3 (ipykernel)",
      "language": "python",
      "name": "python3"
    },
    "language_info": {
      "codemirror_mode": {
        "name": "ipython",
        "version": 3
      },
      "file_extension": ".py",
      "mimetype": "text/x-python",
      "name": "python",
      "nbconvert_exporter": "python",
      "pygments_lexer": "ipython3",
      "version": "3.11.4"
    }
  },
  "nbformat": 4,
  "nbformat_minor": 5
}